{
 "cells": [
  {
   "cell_type": "markdown",
   "metadata": {},
   "source": [
    "Installation"
   ]
  },
  {
   "cell_type": "code",
   "execution_count": 18,
   "metadata": {},
   "outputs": [
    {
     "name": "stdout",
     "output_type": "stream",
     "text": [
      "Requirement already satisfied: deep-translator in d:\\vivek_roushan\\task\\task1\\deep_translator\\venvdeep\\lib\\site-packages (1.11.4)Note: you may need to restart the kernel to use updated packages.\n",
      "\n",
      "Requirement already satisfied: beautifulsoup4<5.0.0,>=4.9.1 in d:\\vivek_roushan\\task\\task1\\deep_translator\\venvdeep\\lib\\site-packages (from deep-translator) (4.9.3)\n",
      "Requirement already satisfied: requests<3.0.0,>=2.23.0 in d:\\vivek_roushan\\task\\task1\\deep_translator\\venvdeep\\lib\\site-packages (from deep-translator) (2.31.0)\n",
      "Requirement already satisfied: soupsieve>1.2 in d:\\vivek_roushan\\task\\task1\\deep_translator\\venvdeep\\lib\\site-packages (from beautifulsoup4<5.0.0,>=4.9.1->deep-translator) (2.5)\n",
      "Requirement already satisfied: charset-normalizer<4,>=2 in d:\\vivek_roushan\\task\\task1\\deep_translator\\venvdeep\\lib\\site-packages (from requests<3.0.0,>=2.23.0->deep-translator) (3.3.2)\n",
      "Requirement already satisfied: idna<4,>=2.5 in d:\\vivek_roushan\\task\\task1\\deep_translator\\venvdeep\\lib\\site-packages (from requests<3.0.0,>=2.23.0->deep-translator) (3.6)\n",
      "Requirement already satisfied: urllib3<3,>=1.21.1 in d:\\vivek_roushan\\task\\task1\\deep_translator\\venvdeep\\lib\\site-packages (from requests<3.0.0,>=2.23.0->deep-translator) (2.2.0)\n",
      "Requirement already satisfied: certifi>=2017.4.17 in d:\\vivek_roushan\\task\\task1\\deep_translator\\venvdeep\\lib\\site-packages (from requests<3.0.0,>=2.23.0->deep-translator) (2024.2.2)\n"
     ]
    }
   ],
   "source": [
    "%pip install -U deep-translator"
   ]
  },
  {
   "cell_type": "code",
   "execution_count": 19,
   "metadata": {},
   "outputs": [
    {
     "name": "stdout",
     "output_type": "stream",
     "text": [
      "Requirement already satisfied: deep-translator[docx] in d:\\vivek_roushan\\task\\task1\\deep_translator\\venvdeep\\lib\\site-packages (1.11.4)\n",
      "Requirement already satisfied: beautifulsoup4<5.0.0,>=4.9.1 in d:\\vivek_roushan\\task\\task1\\deep_translator\\venvdeep\\lib\\site-packages (from deep-translator[docx]) (4.9.3)\n",
      "Requirement already satisfied: requests<3.0.0,>=2.23.0 in d:\\vivek_roushan\\task\\task1\\deep_translator\\venvdeep\\lib\\site-packages (from deep-translator[docx]) (2.31.0)\n",
      "Requirement already satisfied: docx2txt<0.9,>=0.8 in d:\\vivek_roushan\\task\\task1\\deep_translator\\venvdeep\\lib\\site-packages (from deep-translator[docx]) (0.8)\n",
      "Requirement already satisfied: soupsieve>1.2 in d:\\vivek_roushan\\task\\task1\\deep_translator\\venvdeep\\lib\\site-packages (from beautifulsoup4<5.0.0,>=4.9.1->deep-translator[docx]) (2.5)\n",
      "Requirement already satisfied: charset-normalizer<4,>=2 in d:\\vivek_roushan\\task\\task1\\deep_translator\\venvdeep\\lib\\site-packages (from requests<3.0.0,>=2.23.0->deep-translator[docx]) (3.3.2)\n",
      "Requirement already satisfied: idna<4,>=2.5 in d:\\vivek_roushan\\task\\task1\\deep_translator\\venvdeep\\lib\\site-packages (from requests<3.0.0,>=2.23.0->deep-translator[docx]) (3.6)\n",
      "Requirement already satisfied: urllib3<3,>=1.21.1 in d:\\vivek_roushan\\task\\task1\\deep_translator\\venvdeep\\lib\\site-packages (from requests<3.0.0,>=2.23.0->deep-translator[docx]) (2.2.0)\n",
      "Requirement already satisfied: certifi>=2017.4.17 in d:\\vivek_roushan\\task\\task1\\deep_translator\\venvdeep\\lib\\site-packages (from requests<3.0.0,>=2.23.0->deep-translator[docx]) (2024.2.2)\n",
      "Note: you may need to restart the kernel to use updated packages.\n"
     ]
    }
   ],
   "source": [
    "%pip install deep-translator[docx]  \n",
    "# add support for docx translation"
   ]
  },
  {
   "cell_type": "code",
   "execution_count": 20,
   "metadata": {},
   "outputs": [
    {
     "name": "stdout",
     "output_type": "stream",
     "text": [
      "Requirement already satisfied: deep-translator[pdf] in d:\\vivek_roushan\\task\\task1\\deep_translator\\venvdeep\\lib\\site-packages (1.11.4)\n",
      "Requirement already satisfied: beautifulsoup4<5.0.0,>=4.9.1 in d:\\vivek_roushan\\task\\task1\\deep_translator\\venvdeep\\lib\\site-packages (from deep-translator[pdf]) (4.9.3)\n",
      "Requirement already satisfied: requests<3.0.0,>=2.23.0 in d:\\vivek_roushan\\task\\task1\\deep_translator\\venvdeep\\lib\\site-packages (from deep-translator[pdf]) (2.31.0)\n",
      "Requirement already satisfied: pypdf<4.0.0,>=3.3.0 in d:\\vivek_roushan\\task\\task1\\deep_translator\\venvdeep\\lib\\site-packages (from deep-translator[pdf]) (3.17.4)\n",
      "Requirement already satisfied: soupsieve>1.2 in d:\\vivek_roushan\\task\\task1\\deep_translator\\venvdeep\\lib\\site-packages (from beautifulsoup4<5.0.0,>=4.9.1->deep-translator[pdf]) (2.5)\n",
      "Requirement already satisfied: charset-normalizer<4,>=2 in d:\\vivek_roushan\\task\\task1\\deep_translator\\venvdeep\\lib\\site-packages (from requests<3.0.0,>=2.23.0->deep-translator[pdf]) (3.3.2)\n",
      "Requirement already satisfied: idna<4,>=2.5 in d:\\vivek_roushan\\task\\task1\\deep_translator\\venvdeep\\lib\\site-packages (from requests<3.0.0,>=2.23.0->deep-translator[pdf]) (3.6)\n",
      "Requirement already satisfied: urllib3<3,>=1.21.1 in d:\\vivek_roushan\\task\\task1\\deep_translator\\venvdeep\\lib\\site-packages (from requests<3.0.0,>=2.23.0->deep-translator[pdf]) (2.2.0)\n",
      "Requirement already satisfied: certifi>=2017.4.17 in d:\\vivek_roushan\\task\\task1\\deep_translator\\venvdeep\\lib\\site-packages (from requests<3.0.0,>=2.23.0->deep-translator[pdf]) (2024.2.2)\n",
      "Note: you may need to restart the kernel to use updated packages.\n"
     ]
    }
   ],
   "source": [
    "%pip install deep-translator[pdf]  \n",
    "# add support for pdf translation"
   ]
  },
  {
   "cell_type": "code",
   "execution_count": 21,
   "metadata": {},
   "outputs": [
    {
     "name": "stdout",
     "output_type": "stream",
     "text": [
      "Requirement already satisfied: deep-translator[ai] in d:\\vivek_roushan\\task\\task1\\deep_translator\\venvdeep\\lib\\site-packages (1.11.4)\n",
      "Requirement already satisfied: beautifulsoup4<5.0.0,>=4.9.1 in d:\\vivek_roushan\\task\\task1\\deep_translator\\venvdeep\\lib\\site-packages (from deep-translator[ai]) (4.9.3)\n",
      "Requirement already satisfied: requests<3.0.0,>=2.23.0 in d:\\vivek_roushan\\task\\task1\\deep_translator\\venvdeep\\lib\\site-packages (from deep-translator[ai]) (2.31.0)\n",
      "Requirement already satisfied: openai<0.28.0,>=0.27.6 in d:\\vivek_roushan\\task\\task1\\deep_translator\\venvdeep\\lib\\site-packages (from deep-translator[ai]) (0.27.10)\n",
      "Requirement already satisfied: soupsieve>1.2 in d:\\vivek_roushan\\task\\task1\\deep_translator\\venvdeep\\lib\\site-packages (from beautifulsoup4<5.0.0,>=4.9.1->deep-translator[ai]) (2.5)\n",
      "Requirement already satisfied: tqdm in d:\\vivek_roushan\\task\\task1\\deep_translator\\venvdeep\\lib\\site-packages (from openai<0.28.0,>=0.27.6->deep-translator[ai]) (4.66.2)\n",
      "Requirement already satisfied: aiohttp in d:\\vivek_roushan\\task\\task1\\deep_translator\\venvdeep\\lib\\site-packages (from openai<0.28.0,>=0.27.6->deep-translator[ai]) (3.9.3)\n",
      "Requirement already satisfied: charset-normalizer<4,>=2 in d:\\vivek_roushan\\task\\task1\\deep_translator\\venvdeep\\lib\\site-packages (from requests<3.0.0,>=2.23.0->deep-translator[ai]) (3.3.2)\n",
      "Requirement already satisfied: idna<4,>=2.5 in d:\\vivek_roushan\\task\\task1\\deep_translator\\venvdeep\\lib\\site-packages (from requests<3.0.0,>=2.23.0->deep-translator[ai]) (3.6)\n",
      "Requirement already satisfied: urllib3<3,>=1.21.1 in d:\\vivek_roushan\\task\\task1\\deep_translator\\venvdeep\\lib\\site-packages (from requests<3.0.0,>=2.23.0->deep-translator[ai]) (2.2.0)\n",
      "Requirement already satisfied: certifi>=2017.4.17 in d:\\vivek_roushan\\task\\task1\\deep_translator\\venvdeep\\lib\\site-packages (from requests<3.0.0,>=2.23.0->deep-translator[ai]) (2024.2.2)\n",
      "Requirement already satisfied: aiosignal>=1.1.2 in d:\\vivek_roushan\\task\\task1\\deep_translator\\venvdeep\\lib\\site-packages (from aiohttp->openai<0.28.0,>=0.27.6->deep-translator[ai]) (1.3.1)\n",
      "Requirement already satisfied: attrs>=17.3.0 in d:\\vivek_roushan\\task\\task1\\deep_translator\\venvdeep\\lib\\site-packages (from aiohttp->openai<0.28.0,>=0.27.6->deep-translator[ai]) (23.2.0)\n",
      "Requirement already satisfied: frozenlist>=1.1.1 in d:\\vivek_roushan\\task\\task1\\deep_translator\\venvdeep\\lib\\site-packages (from aiohttp->openai<0.28.0,>=0.27.6->deep-translator[ai]) (1.4.1)\n",
      "Requirement already satisfied: multidict<7.0,>=4.5 in d:\\vivek_roushan\\task\\task1\\deep_translator\\venvdeep\\lib\\site-packages (from aiohttp->openai<0.28.0,>=0.27.6->deep-translator[ai]) (6.0.5)\n",
      "Requirement already satisfied: yarl<2.0,>=1.0 in d:\\vivek_roushan\\task\\task1\\deep_translator\\venvdeep\\lib\\site-packages (from aiohttp->openai<0.28.0,>=0.27.6->deep-translator[ai]) (1.9.4)\n",
      "Requirement already satisfied: async-timeout<5.0,>=4.0 in d:\\vivek_roushan\\task\\task1\\deep_translator\\venvdeep\\lib\\site-packages (from aiohttp->openai<0.28.0,>=0.27.6->deep-translator[ai]) (4.0.3)\n",
      "Requirement already satisfied: colorama in d:\\vivek_roushan\\task\\task1\\deep_translator\\venvdeep\\lib\\site-packages (from tqdm->openai<0.28.0,>=0.27.6->deep-translator[ai]) (0.4.6)\n",
      "Note: you may need to restart the kernel to use updated packages.\n"
     ]
    }
   ],
   "source": [
    "%pip install deep-translator[ai]   \n",
    "# add support for ChatGpt"
   ]
  },
  {
   "cell_type": "code",
   "execution_count": 22,
   "metadata": {},
   "outputs": [],
   "source": [
    "from deep_translator import GoogleTranslator\n",
    "\n",
    "# Use any translator you like, in this example GoogleTranslator\n",
    "translated = GoogleTranslator(source='auto', target='gu').translate(\"This text discusses a judgment from the Supreme Court of India regarding a complaint filed under Section 138 of the Negotiable Instruments Act. The case involves a dispute over a cheque issued by the respondent, which was returned due to insufficient funds. The Trial Court initially dismissed the complaint, but the Supreme Court upheld it, finding that the cheque was indeed issued by the respondent.\")  \n"
   ]
  },
  {
   "cell_type": "code",
   "execution_count": 23,
   "metadata": {},
   "outputs": [
    {
     "name": "stdout",
     "output_type": "stream",
     "text": [
      "આ લખાણ નેગોશિયેબલ ઇન્સ્ટ્રુમેન્ટ એક્ટની કલમ 138 હેઠળ દાખલ કરવામાં આવેલી ફરિયાદ અંગે ભારતના સર્વોચ્ચ અદાલતના ચુકાદાની ચર્ચા કરે છે. આ કેસમાં પ્રતિવાદી દ્વારા જારી કરાયેલા ચેક પર વિવાદનો સમાવેશ થાય છે, જે અપૂરતા ભંડોળને કારણે પરત કરવામાં આવ્યો હતો. ટ્રાયલ કોર્ટે શરૂઆતમાં ફરિયાદને ફગાવી દીધી હતી, પરંતુ સર્વોચ્ચ અદાલતે તેને સમર્થન આપ્યું હતું, કારણ કે ચેક ખરેખર પ્રતિવાદી દ્વારા જારી કરવામાં આવ્યો હતો.\n"
     ]
    }
   ],
   "source": [
    "print(translated)"
   ]
  },
  {
   "cell_type": "markdown",
   "metadata": {},
   "source": [
    "Usage"
   ]
  },
  {
   "cell_type": "code",
   "execution_count": 24,
   "metadata": {},
   "outputs": [],
   "source": [
    "from deep_translator import (GoogleTranslator,\n",
    "                             ChatGptTranslator,\n",
    "                             MicrosoftTranslator,\n",
    "                             PonsTranslator,\n",
    "                             LingueeTranslator,\n",
    "                             MyMemoryTranslator,\n",
    "                             YandexTranslator,\n",
    "                             PapagoTranslator,\n",
    "                             DeeplTranslator,\n",
    "                             QcriTranslator,\n",
    "                             single_detection,\n",
    "                             batch_detection)"
   ]
  },
  {
   "cell_type": "markdown",
   "metadata": {},
   "source": [
    "Check Supported Languages"
   ]
  },
  {
   "cell_type": "code",
   "execution_count": 25,
   "metadata": {},
   "outputs": [],
   "source": [
    "# default return type is a list\n",
    "langs_list = GoogleTranslator().get_supported_languages()  \n",
    "# output: [arabic, french, english etc...]\n",
    "\n",
    "# alternatively, you can the dictionary containing languages mapped to their abbreviation\n",
    "langs_dict = GoogleTranslator().get_supported_languages(as_dict=True)  \n",
    "# output: {arabic: ar, french: fr, english:en etc...}"
   ]
  },
  {
   "cell_type": "code",
   "execution_count": 26,
   "metadata": {},
   "outputs": [
    {
     "name": "stdout",
     "output_type": "stream",
     "text": [
      "['afrikaans', 'albanian', 'amharic', 'arabic', 'armenian', 'assamese', 'aymara', 'azerbaijani', 'bambara', 'basque', 'belarusian', 'bengali', 'bhojpuri', 'bosnian', 'bulgarian', 'catalan', 'cebuano', 'chichewa', 'chinese (simplified)', 'chinese (traditional)', 'corsican', 'croatian', 'czech', 'danish', 'dhivehi', 'dogri', 'dutch', 'english', 'esperanto', 'estonian', 'ewe', 'filipino', 'finnish', 'french', 'frisian', 'galician', 'georgian', 'german', 'greek', 'guarani', 'gujarati', 'haitian creole', 'hausa', 'hawaiian', 'hebrew', 'hindi', 'hmong', 'hungarian', 'icelandic', 'igbo', 'ilocano', 'indonesian', 'irish', 'italian', 'japanese', 'javanese', 'kannada', 'kazakh', 'khmer', 'kinyarwanda', 'konkani', 'korean', 'krio', 'kurdish (kurmanji)', 'kurdish (sorani)', 'kyrgyz', 'lao', 'latin', 'latvian', 'lingala', 'lithuanian', 'luganda', 'luxembourgish', 'macedonian', 'maithili', 'malagasy', 'malay', 'malayalam', 'maltese', 'maori', 'marathi', 'meiteilon (manipuri)', 'mizo', 'mongolian', 'myanmar', 'nepali', 'norwegian', 'odia (oriya)', 'oromo', 'pashto', 'persian', 'polish', 'portuguese', 'punjabi', 'quechua', 'romanian', 'russian', 'samoan', 'sanskrit', 'scots gaelic', 'sepedi', 'serbian', 'sesotho', 'shona', 'sindhi', 'sinhala', 'slovak', 'slovenian', 'somali', 'spanish', 'sundanese', 'swahili', 'swedish', 'tajik', 'tamil', 'tatar', 'telugu', 'thai', 'tigrinya', 'tsonga', 'turkish', 'turkmen', 'twi', 'ukrainian', 'urdu', 'uyghur', 'uzbek', 'vietnamese', 'welsh', 'xhosa', 'yiddish', 'yoruba', 'zulu']\n",
      "{'afrikaans': 'af', 'albanian': 'sq', 'amharic': 'am', 'arabic': 'ar', 'armenian': 'hy', 'assamese': 'as', 'aymara': 'ay', 'azerbaijani': 'az', 'bambara': 'bm', 'basque': 'eu', 'belarusian': 'be', 'bengali': 'bn', 'bhojpuri': 'bho', 'bosnian': 'bs', 'bulgarian': 'bg', 'catalan': 'ca', 'cebuano': 'ceb', 'chichewa': 'ny', 'chinese (simplified)': 'zh-CN', 'chinese (traditional)': 'zh-TW', 'corsican': 'co', 'croatian': 'hr', 'czech': 'cs', 'danish': 'da', 'dhivehi': 'dv', 'dogri': 'doi', 'dutch': 'nl', 'english': 'en', 'esperanto': 'eo', 'estonian': 'et', 'ewe': 'ee', 'filipino': 'tl', 'finnish': 'fi', 'french': 'fr', 'frisian': 'fy', 'galician': 'gl', 'georgian': 'ka', 'german': 'de', 'greek': 'el', 'guarani': 'gn', 'gujarati': 'gu', 'haitian creole': 'ht', 'hausa': 'ha', 'hawaiian': 'haw', 'hebrew': 'iw', 'hindi': 'hi', 'hmong': 'hmn', 'hungarian': 'hu', 'icelandic': 'is', 'igbo': 'ig', 'ilocano': 'ilo', 'indonesian': 'id', 'irish': 'ga', 'italian': 'it', 'japanese': 'ja', 'javanese': 'jw', 'kannada': 'kn', 'kazakh': 'kk', 'khmer': 'km', 'kinyarwanda': 'rw', 'konkani': 'gom', 'korean': 'ko', 'krio': 'kri', 'kurdish (kurmanji)': 'ku', 'kurdish (sorani)': 'ckb', 'kyrgyz': 'ky', 'lao': 'lo', 'latin': 'la', 'latvian': 'lv', 'lingala': 'ln', 'lithuanian': 'lt', 'luganda': 'lg', 'luxembourgish': 'lb', 'macedonian': 'mk', 'maithili': 'mai', 'malagasy': 'mg', 'malay': 'ms', 'malayalam': 'ml', 'maltese': 'mt', 'maori': 'mi', 'marathi': 'mr', 'meiteilon (manipuri)': 'mni-Mtei', 'mizo': 'lus', 'mongolian': 'mn', 'myanmar': 'my', 'nepali': 'ne', 'norwegian': 'no', 'odia (oriya)': 'or', 'oromo': 'om', 'pashto': 'ps', 'persian': 'fa', 'polish': 'pl', 'portuguese': 'pt', 'punjabi': 'pa', 'quechua': 'qu', 'romanian': 'ro', 'russian': 'ru', 'samoan': 'sm', 'sanskrit': 'sa', 'scots gaelic': 'gd', 'sepedi': 'nso', 'serbian': 'sr', 'sesotho': 'st', 'shona': 'sn', 'sindhi': 'sd', 'sinhala': 'si', 'slovak': 'sk', 'slovenian': 'sl', 'somali': 'so', 'spanish': 'es', 'sundanese': 'su', 'swahili': 'sw', 'swedish': 'sv', 'tajik': 'tg', 'tamil': 'ta', 'tatar': 'tt', 'telugu': 'te', 'thai': 'th', 'tigrinya': 'ti', 'tsonga': 'ts', 'turkish': 'tr', 'turkmen': 'tk', 'twi': 'ak', 'ukrainian': 'uk', 'urdu': 'ur', 'uyghur': 'ug', 'uzbek': 'uz', 'vietnamese': 'vi', 'welsh': 'cy', 'xhosa': 'xh', 'yiddish': 'yi', 'yoruba': 'yo', 'zulu': 'zu'}\n"
     ]
    }
   ],
   "source": [
    "print(langs_list)\n",
    "print(langs_dict)"
   ]
  },
  {
   "cell_type": "markdown",
   "metadata": {},
   "source": [
    "Language Detection\n",
    "https://detectlanguage.com/documentation"
   ]
  },
  {
   "cell_type": "code",
   "execution_count": 27,
   "metadata": {},
   "outputs": [
    {
     "name": "stdout",
     "output_type": "stream",
     "text": [
      "fr\n"
     ]
    }
   ],
   "source": [
    "# Single Text Detection\n",
    "lang = single_detection('bonjour la vie', api_key='ffecdcc0e9b12ec75bd2973ae3abc5c1')\n",
    "print(lang) \n",
    "# output: fr"
   ]
  },
  {
   "cell_type": "code",
   "execution_count": 28,
   "metadata": {},
   "outputs": [
    {
     "name": "stdout",
     "output_type": "stream",
     "text": [
      "['fr', 'en']\n"
     ]
    }
   ],
   "source": [
    "# Batch Detection\n",
    "lang = batch_detection(['bonjour la vie', 'hello world'], api_key='ffecdcc0e9b12ec75bd2973ae3abc5c1')\n",
    "print(lang) \n",
    "# output: [fr, en]"
   ]
  },
  {
   "cell_type": "markdown",
   "metadata": {},
   "source": [
    "Google Translate"
   ]
  },
  {
   "cell_type": "code",
   "execution_count": 29,
   "metadata": {},
   "outputs": [],
   "source": [
    "text = 'This text discusses a judgment from the Supreme Court of India regarding a complaint filed under Section 138 of the Negotiable Instruments Act. The case involves a dispute over a cheque issued by the respondent, which was returned due to insufficient funds. The Trial Court initially dismissed the complaint, but the Supreme Court upheld it, finding that the cheque was indeed issued by the respondent.'"
   ]
  },
  {
   "cell_type": "code",
   "execution_count": 30,
   "metadata": {},
   "outputs": [],
   "source": [
    "translated = GoogleTranslator(source='auto', target='gu').translate(text=text)"
   ]
  },
  {
   "cell_type": "code",
   "execution_count": 31,
   "metadata": {},
   "outputs": [
    {
     "name": "stdout",
     "output_type": "stream",
     "text": [
      "આ લખાણ નેગોશિયેબલ ઇન્સ્ટ્રુમેન્ટ એક્ટની કલમ 138 હેઠળ દાખલ કરવામાં આવેલી ફરિયાદ અંગે ભારતના સર્વોચ્ચ અદાલતના ચુકાદાની ચર્ચા કરે છે. આ કેસમાં પ્રતિવાદી દ્વારા જારી કરાયેલા ચેક પર વિવાદનો સમાવેશ થાય છે, જે અપૂરતા ભંડોળને કારણે પરત કરવામાં આવ્યો હતો. ટ્રાયલ કોર્ટે શરૂઆતમાં ફરિયાદને ફગાવી દીધી હતી, પરંતુ સર્વોચ્ચ અદાલતે તેને સમર્થન આપ્યું હતું, કારણ કે ચેક ખરેખર પ્રતિવાદી દ્વારા જારી કરવામાં આવ્યો હતો.\n"
     ]
    }
   ],
   "source": [
    "print(translated)"
   ]
  },
  {
   "cell_type": "code",
   "execution_count": 32,
   "metadata": {},
   "outputs": [],
   "source": [
    "# translated = GoogleTranslator(source='auto', target='gu').translate(text=text)\n",
    "\n",
    "# Alternatively, you can pass languages by their abbreviation:\n",
    "translated = GoogleTranslator(source='en', target='gu').translate(text=text)"
   ]
  },
  {
   "cell_type": "code",
   "execution_count": 33,
   "metadata": {},
   "outputs": [
    {
     "name": "stdout",
     "output_type": "stream",
     "text": [
      "આ લખાણ નેગોશિયેબલ ઇન્સ્ટ્રુમેન્ટ એક્ટની કલમ 138 હેઠળ દાખલ કરવામાં આવેલી ફરિયાદ અંગે ભારતના સર્વોચ્ચ અદાલતના ચુકાદાની ચર્ચા કરે છે. આ કેસમાં પ્રતિવાદી દ્વારા જારી કરાયેલા ચેક પર વિવાદનો સમાવેશ થાય છે, જે અપૂરતા ભંડોળને કારણે પરત કરવામાં આવ્યો હતો. ટ્રાયલ કોર્ટે શરૂઆતમાં ફરિયાદને ફગાવી દીધી હતી, પરંતુ સર્વોચ્ચ અદાલતે તેને સમર્થન આપ્યું હતું, કારણ કે ચેક ખરેખર પ્રતિવાદી દ્વારા જારી કરવામાં આવ્યો હતો.\n"
     ]
    }
   ],
   "source": [
    "print(translated)"
   ]
  },
  {
   "cell_type": "code",
   "execution_count": 34,
   "metadata": {},
   "outputs": [
    {
     "name": "stdout",
     "output_type": "stream",
     "text": [
      "Translation using source = auto and target = gu -> આ લખાણ નેગોશિયેબલ ઇન્સ્ટ્રુમેન્ટ એક્ટની કલમ 138 હેઠળ દાખલ કરવામાં આવેલી ફરિયાદ અંગે ભારતના સર્વોચ્ચ અદાલતના ચુકાદાની ચર્ચા કરે છે. આ કેસમાં પ્રતિવાદી દ્વારા જારી કરાયેલા ચેક પર વિવાદનો સમાવેશ થાય છે, જે અપૂરતા ભંડોળને કારણે પરત કરવામાં આવ્યો હતો. ટ્રાયલ કોર્ટે શરૂઆતમાં ફરિયાદને ફગાવી દીધી હતી, પરંતુ સર્વોચ્ચ અદાલતે તેને સમર્થન આપ્યું હતું, કારણ કે ચેક ખરેખર પ્રતિવાદી દ્વારા જારી કરવામાં આવ્યો હતો.\n",
      "Translation using source = auto and target = gu -> આ લખાણ નેગોશિયેબલ ઇન્સ્ટ્રુમેન્ટ એક્ટની કલમ 138 હેઠળ દાખલ કરવામાં આવેલી ફરિયાદ અંગે ભારતના સર્વોચ્ચ અદાલતના ચુકાદાની ચર્ચા કરે છે. આ કેસમાં પ્રતિવાદી દ્વારા જારી કરાયેલા ચેક પર વિવાદનો સમાવેશ થાય છે, જે અપૂરતા ભંડોળને કારણે પરત કરવામાં આવ્યો હતો. ટ્રાયલ કોર્ટે શરૂઆતમાં ફરિયાદને ફગાવી દીધી હતી, પરંતુ સર્વોચ્ચ અદાલતે તેને સમર્થન આપ્યું હતું, કારણ કે ચેક ખરેખર પ્રતિવાદી દ્વારા જારી કરવામાં આવ્યો હતો.\n",
      "Translation using source = en and target = gu -> આ લખાણ નેગોશિયેબલ ઇન્સ્ટ્રુમેન્ટ એક્ટની કલમ 138 હેઠળ દાખલ કરવામાં આવેલી ફરિયાદ અંગે ભારતના સર્વોચ્ચ અદાલતના ચુકાદાની ચર્ચા કરે છે. આ કેસમાં પ્રતિવાદી દ્વારા જારી કરાયેલા ચેક પર વિવાદનો સમાવેશ થાય છે, જે અપૂરતા ભંડોળને કારણે પરત કરવામાં આવ્યો હતો. ટ્રાયલ કોર્ટે શરૂઆતમાં ફરિયાદને ફગાવી દીધી હતી, પરંતુ સર્વોચ્ચ અદાલતે તેને સમર્થન આપ્યું હતું, કારણ કે ચેક ખરેખર પ્રતિવાદી દ્વારા જારી કરવામાં આવ્યો હતો.\n"
     ]
    }
   ],
   "source": [
    "# let's say first you need to translate from auto to gujarati\n",
    "my_translator = GoogleTranslator(source='auto', target='gu')\n",
    "result = my_translator.translate(text=text)\n",
    "print(f\"Translation using source = {my_translator.source} and target = {my_translator.target} -> {result}\")\n",
    "\n",
    "# let's say later you want to reuse the class but your target is other language now\n",
    "# This is the best practice and how you should use deep-translator.\n",
    "# Please don't over-instantiate translator objects without a good reason, otherwise you will run into performance issues\n",
    "my_translator.target = 'gu'  # this will override the target 'gujarati' passed previously\n",
    "result = my_translator.translate(text=text)\n",
    "print(f\"Translation using source = {my_translator.source} and target = {my_translator.target} -> {result}\")\n",
    "\n",
    "# you can also update the source language as well\n",
    "my_translator.source = 'en'  # this will override the source 'auto' passed previously\n",
    "result = my_translator.translate(text=text)\n",
    "print(f\"Translation using source = {my_translator.source} and target = {my_translator.target} -> {result}\")"
   ]
  },
  {
   "cell_type": "markdown",
   "metadata": {},
   "source": [
    "Translate batch of texts"
   ]
  },
  {
   "cell_type": "code",
   "execution_count": 35,
   "metadata": {},
   "outputs": [],
   "source": [
    "texts = [\"hallo welt\", \"guten morgen\"]\n",
    "\n",
    "# the translate_sentences function is deprecated, use the translate_batch function instead\n",
    "translated = GoogleTranslator('de', 'en').translate_batch(texts)"
   ]
  },
  {
   "cell_type": "code",
   "execution_count": 36,
   "metadata": {},
   "outputs": [
    {
     "name": "stdout",
     "output_type": "stream",
     "text": [
      "['Hello World', 'Good morning']\n"
     ]
    }
   ],
   "source": [
    "print(translated)"
   ]
  },
  {
   "cell_type": "markdown",
   "metadata": {},
   "source": [
    "Translate from a file:"
   ]
  },
  {
   "cell_type": "code",
   "execution_count": 38,
   "metadata": {},
   "outputs": [],
   "source": [
    "translated = GoogleTranslator(source='auto', target='gu').translate_file('To_Tra.txt')"
   ]
  },
  {
   "cell_type": "code",
   "execution_count": 30,
   "metadata": {},
   "outputs": [
    {
     "name": "stdout",
     "output_type": "stream",
     "text": [
      "ભરતલો ટેક્સ્ટ-ટુ-સ્પીચ કાર્ય\n",
      "\n",
      "\n",
      "કાર્ય:\n",
      "• Python નો ઉપયોગ કરવા માટે નીચેના સારાંશ માટે TTS - ટેક્સ્ટ-ટુ-સ્પીચનો અમલ કરો.\n",
      "• વિવિધ TTS - (ટેક્સ્ટ-ટુ-સ્પીચ) ટેક્નોલોજીઓ પર સંશોધન કરો અને આપેલ સારાંશ માટે તમારી બધી સંશોધન કરેલી તકનીકોનો અમલ કરો.\n",
      "• ટીટીએસ રૂપાંતરણ ફક્ત શબ્દથી શબ્દ રૂપાંતરણને બદલે, સંદર્ભિત અને સરળતાથી સમજી શકાય તેટલું સંક્ષિપ્ત હોવું જોઈએ.\n",
      "• મૂલ્યાંકન માટે અમલમાં મૂકાયેલી તકનીકો માટે તમારા તારણો રજૂ કરો.\n",
      "સારાંશ:\n",
      "સારાંશ: નેગોશિયેબલ ઇન્સ્ટ્રુમેન્ટ એક્ટની કલમ 138 હેઠળ ફરિયાદ પર ચુકાદો\n",
      "\n",
      "પરિચય\n",
      "આ લખાણ ભારતની સર્વોચ્ચ અદાલતના ચુકાદાની ચર્ચા કરે છે\n",
      "નેગોશિયેબલ ઇન્સ્ટ્રુમેન્ટ એક્ટની કલમ 138 હેઠળ ફરિયાદ દાખલ કરવામાં આવી છે.\n",
      "આ કેસમાં પ્રતિવાદી દ્વારા જારી કરાયેલા ચેક પર વિવાદનો સમાવેશ થાય છે,\n",
      "જે અપૂરતા ભંડોળને કારણે પરત કરવામાં આવી હતી. ટ્રાયલ કોર્ટ શરૂઆતમાં\n",
      "ફરિયાદને ફગાવી દીધી, પરંતુ સુપ્રીમ કોર્ટે તેને માન્ય રાખ્યું\n",
      "ચેક ખરેખર પ્રતિવાદી દ્વારા જારી કરવામાં આવ્યો હતો.\n",
      "\n",
      "કી પોઇન્ટ\n",
      "સફરજનના કાર્ટનની સંખ્યા અને બાકી રકમ અંગેના પુરાવામાં વિરોધાભાસને કારણે શરૂઆતમાં ફરિયાદ રદ કરવામાં આવી હતી.\n",
      "હાઈકોર્ટે સ્થાપિત કર્યું કે ચેકમાં અન્યથા સાબિત ન થાય ત્યાં સુધી વિચારણાની ધારણા છે.\n",
      "પુરાવાનો બોજ આરોપી પર છે કે તેઓ કોઈ દેવું અસ્તિત્વમાં નથી તે દર્શાવવા પુરાવા અથવા સંજોગો પ્રદાન કરીને વિચારણાની ધારણાને રદિયો આપે છે.\n",
      "અદાલત કાયદાની કલમ 139 હેઠળ દેવું અથવા જવાબદારીના અનુમાનની ચર્ચા કરે છે અને જણાવે છે કે જો આરોપી સંભવિત બચાવ રજૂ કરે તો તે નિષ્ફળ થઈ શકે છે.\n",
      "અદાલત ભારપૂર્વક જણાવે છે કે કલમ 139 હેઠળની ધારણા એ મુકદ્દમામાં અનુચિત વિલંબને રોકવા માટેનું સાધન છે અને ચેકનું અપમાન કરવું એ મોટાભાગે નાગરિક ખોટું છે.\n",
      "આ કેસમાં ઉત્તરદાતા ચેક જારી કરવામાં વિચારણાની ધારણાને રદિયો આપવા માટે કોઈ પુરાવા પ્રદાન કરવામાં નિષ્ફળ ગયા.\n",
      "બાકી રકમના નિર્ધારણમાં વિસંગતતાઓના આધારે ફરિયાદને બરતરફ કરવા માટે નીચેની અદાલતોની ટીકા કરવામાં આવી હતી.\n",
      "જવાબ આપનારને ચેકનું અપમાન કરવા બદલ દોષિત ગણવામાં આવે છે અને તેને દંડ અને ખર્ચ ચૂકવવાનો આદેશ આપવામાં આવે છે.\n",
      "નિષ્કર્ષ\n",
      "નિષ્કર્ષમાં, ભારતની સર્વોચ્ચ અદાલતે નેગોશિયેબલ ઇન્સ્ટ્રુમેન્ટ એક્ટની કલમ 138 હેઠળ દાખલ કરાયેલી ફરિયાદને સમર્થન આપ્યું હતું. અદાલતને જાણવા મળ્યું કે ચેક પ્રતિવાદી દ્વારા જારી કરવામાં આવ્યો હતો અને પુરાવામાં વિસંગતતાઓના આધારે ફરિયાદને ફગાવી દેવા બદલ નીચલી અદાલતોની ટીકા કરી હતી. કોર્ટે કલમ 139 હેઠળ વિચારણાની ધારણા પર ભાર મૂક્યો અને જવાબ આપનારને ચેકનું અપમાન કરવા માટે દોષિત ઠેરવ્યા. પ્રતિવાદીને દંડ અને ખર્ચ ચૂકવવાનો આદેશ આપવામાં આવ્યો હતો.\n",
      "\n",
      "પરિચય આદાનને નેશીન્યુમેન્ટ્સ એક્ટીબલ કલમ 138 અંતર્ગત દાખલા તપાસ પોલીસના ન્યાયાધીશની ચર્ચા કરે છે. આ કેસમાં ઉત્તરદાતા દ્વારા જારી સ્પર્ધકો ચેકૂરનો સમાવેશ થાય છે, જે અપેક્ષિત નિવેદનને કારણે આવી હતી. ન્યાયાધીશ ફરિયાદની ફરિયાદને ફગાવી હતી, પરંતુ રાજ્ય સરકાર દ્વારા તેને આપવામાં આવ્યું હતું, અને તે શોધી કાઢ્યું હતું કે ચેક સત્ય દ્વારા જારી આવ્યો હતો.\n",
      "આ લખાણ શિબિર ઇન્ડસ્ટ્રીમેન્ટ એક્ટની કલમ 8 ની નીચે દાખલ કરવામાં આવી છે અને સાથે સાથે સંબંધિત બાબતોને 13 સરકારને સર્વોચ્ચાગોના મુદ્દાની ચર્ચા કરે છે. આ કેસમાં પ્રતિવાદી દ્વારા જારી સ્ટેટ્સ પર ચેક પરનો સમાવેશ થાય છે જે અપૂરતા સંબંધને કારણે, આવી હતી. ન્યાયાધીશ ફરિયાદની ફરિયાદને ફગાવી હતી, પરંતુ સર્વોચ્ચ દ્વારા તેને જવાબદાર ઠેરવવામાં આવ્યું હતું, કારણ કે વાસ્તવિકતા દ્વારા જારી કરવામાં આવ્યો હતો.\n"
     ]
    }
   ],
   "source": [
    "print(translated)"
   ]
  },
  {
   "cell_type": "markdown",
   "metadata": {},
   "source": [
    "Mymemory Translator"
   ]
  },
  {
   "cell_type": "code",
   "execution_count": 39,
   "metadata": {},
   "outputs": [],
   "source": [
    "# Simple translation\n",
    "text = 'the Supreme Court of India upheld a complaint filed under Section 138 of the Negotiable Instruments Act. The court found that the cheque was issued by the respondent and criticized the lower courts for dismissing the complaint based on discrepancies in the evidence. The court emphasized the presumption of consideration under Section 139 and held the respondent guilty of dishonoring the cheque. The respondent was ordered to pay a fine and costs.'\n",
    "\n",
    "translated = MyMemoryTranslator(source='en-IN', target='gu-IN').translate(text)"
   ]
  },
  {
   "cell_type": "code",
   "execution_count": 40,
   "metadata": {},
   "outputs": [
    {
     "name": "stdout",
     "output_type": "stream",
     "text": [
      "ભારતની સુપ્રીમ કોર્ટે નેગોશીએબલ ઇન્સ્ટ્રુમેન્ટ્સ એક્ટની કલમ 138 હેઠળ દાખલ કરેલી ફરિયાદને સમર્થન આપ્યું છે. કોર્ટે શોધી કા. ્યું કે ચેક ઉત્તરદાતા દ્વારા જારી કરવામાં આવ્યો હતો અને પુરાવાઓમાં વિસંગતતાના આધારે ફરિયાદને રદ કરવા બદલ નીચલી અદાલતોની ટીકા કરી હતી. કોર્ટે કલમ 139 હેઠળ વિચારણાની ધારણા પર ભાર મૂક્યો હતો અને ચેકનું અપમાન કરવા બદલ જવાબદારને દોષી ઠેરવ્યો હતો. જવાબ આપનારને દંડ અને ખર્ચ ચૂકવવાનો આદેશ આપવામાં આવ્યો હતો.\n"
     ]
    }
   ],
   "source": [
    "print(translated)"
   ]
  },
  {
   "cell_type": "code",
   "execution_count": 41,
   "metadata": {},
   "outputs": [],
   "source": [
    "# Translate batch of texts\n",
    "texts = [\"hallo welt\", \"guten morgen\"]\n",
    "\n",
    "# the translate_sentences function is deprecated, use the translate_batch function instead\n",
    "translated = MyMemoryTranslator('de-DE', 'en-IN').translate_batch(texts)"
   ]
  },
  {
   "cell_type": "code",
   "execution_count": 42,
   "metadata": {},
   "outputs": [
    {
     "name": "stdout",
     "output_type": "stream",
     "text": [
      "['hello world', 'good morning']\n"
     ]
    }
   ],
   "source": [
    "print(translated)"
   ]
  },
  {
   "cell_type": "markdown",
   "metadata": {},
   "source": [
    "Translate from file"
   ]
  },
  {
   "cell_type": "code",
   "execution_count": 43,
   "metadata": {},
   "outputs": [],
   "source": [
    "path = \"Min_len.txt\"\n",
    "\n",
    "translated = MyMemoryTranslator(source='en-IN', target='gu-IN').translate_file(path)"
   ]
  },
  {
   "cell_type": "code",
   "execution_count": 44,
   "metadata": {},
   "outputs": [
    {
     "name": "stdout",
     "output_type": "stream",
     "text": [
      "નિષ્કર્ષમાં, ભારતની સુપ્રીમ કોર્ટે નેગોશીએબલ ઇન્સ્ટ્રુમેન્ટ્સ એક્ટની કલમ 138 હેઠળ દાખલ કરેલી ફરિયાદને સમર્થન આપ્યું. કોર્ટે શોધી કા. ્યું કે ચેક ઉત્તરદાતા દ્વારા જારી કરવામાં આવ્યો હતો અને પુરાવાઓમાં વિસંગતતાના આધારે ફરિયાદને રદ કરવા બદલ નીચલી અદાલતોની ટીકા કરી હતી. કોર્ટે કલમ 139 હેઠળ વિચારણાની ધારણા પર ભાર મૂક્યો હતો અને ચેકનું અપમાન કરવા બદલ જવાબદારને દોષી ઠેરવ્યો હતો. જવાબ આપનારને દંડ અને ખર્ચ ચૂકવવાનો આદેશ આપવામાં આવ્યો હતો.\n"
     ]
    }
   ],
   "source": [
    "print(translated)"
   ]
  },
  {
   "cell_type": "markdown",
   "metadata": {},
   "source": [
    "DeeplTranslator (Need Credit Card for making account)"
   ]
  }
 ],
 "metadata": {
  "kernelspec": {
   "display_name": "Python 3",
   "language": "python",
   "name": "python3"
  },
  "language_info": {
   "codemirror_mode": {
    "name": "ipython",
    "version": 3
   },
   "file_extension": ".py",
   "mimetype": "text/x-python",
   "name": "python",
   "nbconvert_exporter": "python",
   "pygments_lexer": "ipython3",
   "version": "3.10.0"
  }
 },
 "nbformat": 4,
 "nbformat_minor": 2
}
